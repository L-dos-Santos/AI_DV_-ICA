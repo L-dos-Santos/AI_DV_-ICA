{
 "cells": [
  {
   "cell_type": "markdown",
   "id": "ce7037be",
   "metadata": {},
   "source": [
    "# Artificial Intelligence #"
   ]
  },
  {
   "cell_type": "markdown",
   "id": "6dc7b9aa",
   "metadata": {},
   "source": [
    "# Scenario 1:\n",
    "\n",
    "## Suppose Ciara knows Python, and only has funds to hire three more people.\n",
    "\n",
    "### 2 Python Programmers, \n",
    "### 2 AI Engineers, \n",
    "### 1 Web Designer, \n",
    "### 1 Database Admin, \n",
    "### and 1 Systems Engineer."
   ]
  },
  {
   "cell_type": "code",
   "execution_count": 1,
   "id": "cf2b07d6",
   "metadata": {},
   "outputs": [],
   "source": [
    "# Imports the module\n",
    "from constraint import Problem\n",
    "\n",
    "# Create a CSP problem\n",
    "problem = Problem()\n",
    "\n",
    "# Variables\n",
    "roles = ['Python 1',\n",
    "         'Python 2',\n",
    "         'AI 1',\n",
    "         'AI 2',\n",
    "         'Web', \n",
    "         'Database', \n",
    "         'Systems']\n",
    "\n",
    "# Domains\n",
    "candidates = {\n",
    "    'Ciara': ['Python 1'],\n",
    "    'Peter': ['Python 2', 'AI 1', 'AI 2'],\n",
    "    'Juan': ['Web', 'AI 1', 'AI 2'],\n",
    "    'Jim': ['AI 1', 'AI 2', 'Systems'],\n",
    "    'Jane': ['Python 2', 'Database'],\n",
    "    'Mary': ['Web', 'Systems'],\n",
    "    'Bruce': ['Systems', 'Python 2'],\n",
    "    'Anita': ['Web', 'AI 1', 'AI 2']\n",
    "}"
   ]
  },
  {
   "cell_type": "code",
   "execution_count": null,
   "id": "a204b2d9",
   "metadata": {},
   "outputs": [],
   "source": []
  }
 ],
 "metadata": {
  "kernelspec": {
   "display_name": "Python 3 (ipykernel)",
   "language": "python",
   "name": "python3"
  },
  "language_info": {
   "codemirror_mode": {
    "name": "ipython",
    "version": 3
   },
   "file_extension": ".py",
   "mimetype": "text/x-python",
   "name": "python",
   "nbconvert_exporter": "python",
   "pygments_lexer": "ipython3",
   "version": "3.9.12"
  }
 },
 "nbformat": 4,
 "nbformat_minor": 5
}
